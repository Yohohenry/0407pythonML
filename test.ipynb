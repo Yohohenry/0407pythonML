{
 "cells": [
  {
   "cell_type": "markdown",
   "metadata": {},
   "source": [
    "## 複製圖片位置\n",
    "![圖:xxx](https://markdown.tw/images/208x128.png)\n",
    "\n",
    "\n",
    "## 超連結\n",
    "[請點我](https://www.google.com)\n",
    "\n",
    "## 表格\n",
    "姓名|身高|體重\n",
    "---|---|----\n",
    "henry|177|60\n",
    "\n",
    "## 顯示公式\n",
    "[Latex Math](https://en.wikibooks.org/wiki/LaTex/Mathematics)\n",
    "\n",
    "$ \\frac{1}{2} \\times \\pi R_1^2 $\n"
   ]
  },
  {
   "cell_type": "markdown",
   "metadata": {},
   "source": []
  }
 ],
 "metadata": {
  "kernelspec": {
   "display_name": "Python 3",
   "language": "python",
   "name": "python3"
  },
  "language_info": {
   "codemirror_mode": {
    "name": "ipython",
    "version": 3
   },
   "file_extension": ".py",
   "mimetype": "text/x-python",
   "name": "python",
   "nbconvert_exporter": "python",
   "pygments_lexer": "ipython3",
   "version": "3.7.6"
  }
 },
 "nbformat": 4,
 "nbformat_minor": 4
}
